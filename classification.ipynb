{
 "cells": [
  {
   "cell_type": "code",
   "execution_count": 8,
   "metadata": {},
   "outputs": [
    {
     "name": "stdout",
     "output_type": "stream",
     "text": [
      "The autoreload extension is already loaded. To reload it, use:\n",
      "  %reload_ext autoreload\n"
     ]
    }
   ],
   "source": [
    "%load_ext autoreload\n",
    "%autoreload 2"
   ]
  },
  {
   "cell_type": "code",
   "execution_count": 9,
   "metadata": {},
   "outputs": [],
   "source": [
    "from models.mida import Mida\n",
    "from models.mice import Mice\n",
    "\n",
    "import numpy as np\n",
    "import pandas as pd\n",
    "from sklearn.neighbors import KNeighborsClassifier\n",
    "from fancyimpute import KNN, SoftImpute\n",
    "\n",
    "from preprocessing.data_loading import DataSet\n",
    "from preprocessing.missing_value_generation import mcar_generator, mar_generator, mnar_generator\n",
    "from models.imputation_wrapper import SingleImputationWrapper, MultiImputationWrapper\n",
    "from analysis.evaluation import ClassificationEvaluation, LnormEvaluation, TimeEvaluation"
   ]
  },
  {
   "cell_type": "code",
   "execution_count": 10,
   "metadata": {},
   "outputs": [],
   "source": [
    "dataset = DataSet('ionosphere', 'class')\n",
    "amputations = (mcar_generator(), mar_generator(2), mnar_generator(2))"
   ]
  },
  {
   "cell_type": "code",
   "execution_count": 11,
   "metadata": {},
   "outputs": [],
   "source": [
    "clf_evaluation = ClassificationEvaluation(KNeighborsClassifier(5), dataset)\n",
    "lnorm_evaluation = LnormEvaluation(dataset)\n",
    "time_evaluation = TimeEvaluation(dataset)"
   ]
  },
  {
   "cell_type": "code",
   "execution_count": 12,
   "metadata": {},
   "outputs": [],
   "source": [
    "# result on complete dataset\n",
    "clf_evaluation.evaluate_result([dataset.complete_data()], 0, 'None', 'None')\n",
    "lnorm_evaluation.evaluate_result([dataset.complete_data()], 0, 'None', 'None')"
   ]
  },
  {
   "cell_type": "code",
   "execution_count": 13,
   "metadata": {},
   "outputs": [],
   "source": [
    "imputations = [SingleImputationWrapper(KNN(3, verbose=False)), SingleImputationWrapper(SoftImpute(verbose=False)),\n",
    "               MultiImputationWrapper(Mice(40, verbose=False)), MultiImputationWrapper(Mida(40, verbose=False))]"
   ]
  },
  {
   "cell_type": "code",
   "execution_count": 14,
   "metadata": {},
   "outputs": [
    {
     "name": "stderr",
     "output_type": "stream",
     "text": [
      "/home/marcus/Studium/Master/Semester_1/Smart Representation/Imputation/preprocessing/missing_value_generation.py:66: SettingWithCopyWarning: \n",
      "A value is trying to be set on a copy of a slice from a DataFrame\n",
      "\n",
      "See the caveats in the documentation: http://pandas.pydata.org/pandas-docs/stable/indexing.html#indexing-view-versus-copy\n",
      "  result[c][rows] = np.nan\n"
     ]
    },
    {
     "name": "stdout",
     "output_type": "stream",
     "text": [
      "mcar: 0.2 KNN done\n"
     ]
    },
    {
     "name": "stderr",
     "output_type": "stream",
     "text": [
      "/home/marcus/anaconda3/lib/python3.6/site-packages/fancyimpute-0.3.1-py3.6.egg/fancyimpute/soft_impute.py:100: RuntimeWarning: divide by zero encountered in double_scalars\n"
     ]
    },
    {
     "name": "stdout",
     "output_type": "stream",
     "text": [
      "mcar: 0.2 SoftImpute done\n",
      "mcar: 0.2 Mice done\n",
      "mcar: 0.2 Mida done\n",
      "mcar: 0.4 KNN done\n",
      "mcar: 0.4 SoftImpute done\n",
      "mcar: 0.4 Mice done\n",
      "mcar: 0.4 Mida done\n",
      "mcar: 0.6 KNN done\n",
      "mcar: 0.6 SoftImpute done\n",
      "mcar: 0.6 Mice done\n",
      "mcar: 0.6 Mida done\n",
      "mcar: 0.8 KNN done\n",
      "mcar: 0.8 SoftImpute done\n",
      "mcar: 0.8 Mice done\n",
      "mcar: 0.8 Mida done\n"
     ]
    },
    {
     "name": "stderr",
     "output_type": "stream",
     "text": [
      "/home/marcus/anaconda3/lib/python3.6/site-packages/scipy/stats/stats.py:2248: RuntimeWarning: invalid value encountered in true_divide\n",
      "  return (a - mns) / sstd\n",
      "/home/marcus/Studium/Master/Semester_1/Smart Representation/Imputation/preprocessing/missing_value_generation.py:104: SettingWithCopyWarning: \n",
      "A value is trying to be set on a copy of a slice from a DataFrame\n",
      "\n",
      "See the caveats in the documentation: http://pandas.pydata.org/pandas-docs/stable/indexing.html#indexing-view-versus-copy\n",
      "  result[c][rows] = np.nan\n"
     ]
    },
    {
     "name": "stdout",
     "output_type": "stream",
     "text": [
      "mar: 0.2 KNN done\n",
      "mar: 0.2 SoftImpute done\n",
      "mar: 0.2 Mice done\n",
      "mar: 0.2 Mida done\n",
      "mar: 0.4 KNN done\n",
      "mar: 0.4 SoftImpute done\n",
      "mar: 0.4 Mice done\n",
      "mar: 0.4 Mida done\n",
      "mar: 0.6 KNN done\n",
      "mar: 0.6 SoftImpute done\n",
      "mar: 0.6 Mice done\n",
      "mar: 0.6 Mida done\n",
      "mar: 0.8 KNN done\n",
      "mar: 0.8 SoftImpute done\n",
      "mar: 0.8 Mice done\n",
      "mar: 0.8 Mida done\n"
     ]
    },
    {
     "name": "stderr",
     "output_type": "stream",
     "text": [
      "/home/marcus/Studium/Master/Semester_1/Smart Representation/Imputation/preprocessing/missing_value_generation.py:146: SettingWithCopyWarning: \n",
      "A value is trying to be set on a copy of a slice from a DataFrame\n",
      "\n",
      "See the caveats in the documentation: http://pandas.pydata.org/pandas-docs/stable/indexing.html#indexing-view-versus-copy\n",
      "  result[c][rows] = np.nan\n"
     ]
    },
    {
     "name": "stdout",
     "output_type": "stream",
     "text": [
      "mnar: 0.2 KNN done\n",
      "mnar: 0.2 SoftImpute done\n",
      "mnar: 0.2 Mice done\n",
      "mnar: 0.2 Mida done\n",
      "mnar: 0.4 KNN done\n",
      "mnar: 0.4 SoftImpute done\n",
      "mnar: 0.4 Mice done\n",
      "mnar: 0.4 Mida done\n",
      "mnar: 0.6 KNN done\n",
      "mnar: 0.6 SoftImpute done\n",
      "mnar: 0.6 Mice done\n",
      "mnar: 0.6 Mida done\n",
      "mnar: 0.8 KNN done\n",
      "mnar: 0.8 SoftImpute done\n",
      "mnar: 0.8 Mice done\n",
      "mnar: 0.8 Mida done\n"
     ]
    }
   ],
   "source": [
    "# different methods\n",
    "for amputation in amputations:\n",
    "    dataset.init_missing_data(amputation)\n",
    "    \n",
    "    # increasing rate p\n",
    "    for p in [0.2, 0.4, 0.6, 0.8]:\n",
    "        dataset.ampute_values(p)\n",
    "        \n",
    "        # apply each imputation\n",
    "        for imputation in imputations:\n",
    "            results, exec_time = imputation.complete(dataset.missing_data())\n",
    "            clf_evaluation.evaluate_result(results, p, amputation.name(), imputation.name())\n",
    "            lnorm_evaluation.evaluate_result(results, p, amputation.name(), imputation.name())\n",
    "            time_evaluation.evaluate_result(exec_time, p, amputation.name(), imputation.name(), imputation.number())\n",
    "            print(amputation.name() + ': ' + str(p) + ' ' + imputation.name() + ' done')"
   ]
  },
  {
   "cell_type": "code",
   "execution_count": 15,
   "metadata": {},
   "outputs": [],
   "source": [
    "clf_evaluation.evaluation_results\n",
    "clf_evaluation.dump_results()"
   ]
  },
  {
   "cell_type": "code",
   "execution_count": 16,
   "metadata": {},
   "outputs": [],
   "source": [
    "lnorm_evaluation.evaluation_results\n",
    "lnorm_evaluation.dump_results()"
   ]
  },
  {
   "cell_type": "code",
   "execution_count": 17,
   "metadata": {},
   "outputs": [],
   "source": [
    "time_evaluation.evaluation_results\n",
    "time_evaluation.dump_results()"
   ]
  },
  {
   "cell_type": "code",
   "execution_count": null,
   "metadata": {},
   "outputs": [],
   "source": []
  }
 ],
 "metadata": {
  "kernelspec": {
   "display_name": "Python 3",
   "language": "python",
   "name": "python3"
  },
  "language_info": {
   "codemirror_mode": {
    "name": "ipython",
    "version": 3
   },
   "file_extension": ".py",
   "mimetype": "text/x-python",
   "name": "python",
   "nbconvert_exporter": "python",
   "pygments_lexer": "ipython3",
   "version": "3.6.4"
  }
 },
 "nbformat": 4,
 "nbformat_minor": 2
}
