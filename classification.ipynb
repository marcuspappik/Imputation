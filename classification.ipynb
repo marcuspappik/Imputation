{
 "cells": [
  {
   "cell_type": "code",
   "execution_count": 1,
   "metadata": {},
   "outputs": [],
   "source": [
    "%load_ext autoreload\n",
    "%autoreload 2"
   ]
  },
  {
   "cell_type": "code",
   "execution_count": 2,
   "metadata": {},
   "outputs": [
    {
     "name": "stderr",
     "output_type": "stream",
     "text": [
      "/home/marcus/anaconda3/lib/python3.6/site-packages/h5py/__init__.py:36: FutureWarning: Conversion of the second argument of issubdtype from `float` to `np.floating` is deprecated. In future, it will be treated as `np.float64 == np.dtype(float).type`.\n",
      "  from ._conv import register_converters as _register_converters\n",
      "Using TensorFlow backend.\n"
     ]
    }
   ],
   "source": [
    "from models.mida import Mida\n",
    "from models.mice import Mice\n",
    "\n",
    "import numpy as np\n",
    "import pandas as pd\n",
    "from sklearn.neighbors import KNeighborsClassifier\n",
    "from fancyimpute import KNN, SoftImpute\n",
    "\n",
    "from preprocessing.data_loading import DataSet\n",
    "from preprocessing.missing_value_generation import mcar_generator, mar_generator, mnar_generator\n",
    "from models.imputation_wrapper import SingleImputationWrapper, MultiImputationWrapper\n",
    "from analysis.evaluation import ClassificationEvaluation, LnormEvaluation, TimeEvaluation\n",
    "from analysis.method_wrapper import ClassificationMethodWrapper"
   ]
  },
  {
   "cell_type": "code",
   "execution_count": 3,
   "metadata": {},
   "outputs": [
    {
     "name": "stdout",
     "output_type": "stream",
     "text": [
      "['ionosphere', 'iris', 'ecoli', 'satellite', 'wdbc']\n"
     ]
    }
   ],
   "source": [
    "datasets_df = pd.read_csv('data/datasets.csv')\n",
    "datasets = datasets_df.loc[datasets_df['type']=='classification', 'dataset'].tolist()\n",
    "print(datasets)"
   ]
  },
  {
   "cell_type": "code",
   "execution_count": 4,
   "metadata": {},
   "outputs": [],
   "source": [
    "amputations = [mcar_generator(), mar_generator(2), mnar_generator(2)]"
   ]
  },
  {
   "cell_type": "code",
   "execution_count": 5,
   "metadata": {},
   "outputs": [],
   "source": [
    "p_range = [0.2, 0.4, 0.6, 0.8]"
   ]
  },
  {
   "cell_type": "code",
   "execution_count": 6,
   "metadata": {},
   "outputs": [
    {
     "name": "stdout",
     "output_type": "stream",
     "text": [
      "ionosphere started-------------------------------------------\n"
     ]
    },
    {
     "name": "stderr",
     "output_type": "stream",
     "text": [
      "/home/marcus/Studium/Master/Semester_1/Smart Representation/Imputation/preprocessing/missing_value_generation.py:69: SettingWithCopyWarning: \n",
      "A value is trying to be set on a copy of a slice from a DataFrame\n",
      "\n",
      "See the caveats in the documentation: http://pandas.pydata.org/pandas-docs/stable/indexing.html#indexing-view-versus-copy\n",
      "  result[c][rows] = np.nan\n",
      "/home/marcus/anaconda3/lib/python3.6/site-packages/fancyimpute-0.3.1-py3.6.egg/fancyimpute/soft_impute.py:100: RuntimeWarning: divide by zero encountered in double_scalars\n"
     ]
    },
    {
     "name": "stdout",
     "output_type": "stream",
     "text": [
      "mcar: 0.2 done\n",
      "mcar: 0.4 done\n",
      "mcar: 0.6 done\n",
      "mcar: 0.8 done\n"
     ]
    },
    {
     "name": "stderr",
     "output_type": "stream",
     "text": [
      "/home/marcus/Studium/Master/Semester_1/Smart Representation/Imputation/preprocessing/missing_value_generation.py:109: SettingWithCopyWarning: \n",
      "A value is trying to be set on a copy of a slice from a DataFrame\n",
      "\n",
      "See the caveats in the documentation: http://pandas.pydata.org/pandas-docs/stable/indexing.html#indexing-view-versus-copy\n",
      "  result[c][rows] = np.nan\n"
     ]
    },
    {
     "name": "stdout",
     "output_type": "stream",
     "text": [
      "mar: 0.2 done\n",
      "mar: 0.4 done\n",
      "mar: 0.6 done\n",
      "mar: 0.8 done\n"
     ]
    },
    {
     "name": "stderr",
     "output_type": "stream",
     "text": [
      "/home/marcus/anaconda3/lib/python3.6/site-packages/scipy/stats/stats.py:2248: RuntimeWarning: invalid value encountered in true_divide\n",
      "  return (a - mns) / sstd\n",
      "/home/marcus/Studium/Master/Semester_1/Smart Representation/Imputation/preprocessing/missing_value_generation.py:153: SettingWithCopyWarning: \n",
      "A value is trying to be set on a copy of a slice from a DataFrame\n",
      "\n",
      "See the caveats in the documentation: http://pandas.pydata.org/pandas-docs/stable/indexing.html#indexing-view-versus-copy\n",
      "  result[c][rows] = np.nan\n"
     ]
    },
    {
     "name": "stdout",
     "output_type": "stream",
     "text": [
      "mnar: 0.2 done\n",
      "mnar: 0.4 done\n",
      "mnar: 0.6 done\n",
      "mnar: 0.8 done\n",
      "ionosphere done-------------------------------------------\n",
      "iris started-------------------------------------------\n",
      "mcar: 0.2 done\n",
      "mcar: 0.4 done\n",
      "mcar: 0.6 done\n",
      "mcar: 0.8 done\n",
      "mar: 0.2 done\n",
      "mar: 0.4 done\n",
      "mar: 0.6 done\n",
      "mar: 0.8 done\n",
      "mnar: 0.2 done\n",
      "mnar: 0.4 done\n",
      "mnar: 0.6 done\n",
      "mnar: 0.8 done\n",
      "iris done-------------------------------------------\n",
      "ecoli started-------------------------------------------\n",
      "mcar: 0.2 done\n",
      "mcar: 0.4 done\n",
      "mcar: 0.6 done\n",
      "mcar: 0.8 done\n",
      "mar: 0.2 done\n",
      "mar: 0.4 done\n",
      "mar: 0.6 done\n",
      "mar: 0.8 done\n",
      "mnar: 0.2 done\n",
      "mnar: 0.4 done\n",
      "mnar: 0.6 done\n",
      "mnar: 0.8 done\n",
      "ecoli done-------------------------------------------\n",
      "satellite started-------------------------------------------\n",
      "mcar: 0.2 done\n",
      "mcar: 0.4 done\n",
      "mcar: 0.6 done\n",
      "mcar: 0.8 done\n",
      "mar: 0.2 done\n",
      "mar: 0.4 done\n",
      "mar: 0.6 done\n",
      "mar: 0.8 done\n",
      "mnar: 0.2 done\n",
      "mnar: 0.4 done\n",
      "mnar: 0.6 done\n",
      "mnar: 0.8 done\n",
      "satellite done-------------------------------------------\n",
      "wdbc started-------------------------------------------\n",
      "mcar: 0.2 done\n",
      "mcar: 0.4 done\n",
      "mcar: 0.6 done\n",
      "mcar: 0.8 done\n",
      "mar: 0.2 done\n",
      "mar: 0.4 done\n",
      "mar: 0.6 done\n",
      "mar: 0.8 done\n",
      "mnar: 0.2 done\n",
      "mnar: 0.4 done\n",
      "mnar: 0.6 done\n",
      "mnar: 0.8 done\n",
      "wdbc done-------------------------------------------\n"
     ]
    }
   ],
   "source": [
    "# each dataset\n",
    "for dataset_name in datasets:    \n",
    "    print(dataset_name + ' started-------------------------------------------')\n",
    "    # init dataset\n",
    "    dataset = DataSet(dataset_name, 'class')\n",
    "\n",
    "    # init evaluation\n",
    "    clf_evaluation = ClassificationEvaluation(ClassificationMethodWrapper(KNeighborsClassifier(5)), dataset)\n",
    "    lnorm_evaluation = LnormEvaluation(dataset)\n",
    "    time_evaluation = TimeEvaluation(dataset)\n",
    "\n",
    "    # result on complete dataset\n",
    "    clf_evaluation.evaluate_result([dataset.complete_data()], 0, 'None', 'None')\n",
    "    lnorm_evaluation.evaluate_result([dataset.complete_data()], 0, 'None', 'None')\n",
    "\n",
    "    # define methods for imputation\n",
    "    imputations = [SingleImputationWrapper(KNN(3, verbose=False)), SingleImputationWrapper(SoftImpute(verbose=False)),\n",
    "                   MultiImputationWrapper(Mice(40, verbose=False)), MultiImputationWrapper(Mida(40, verbose=False))]\n",
    "\n",
    "    # different methods\n",
    "    for amputation in amputations:\n",
    "        dataset.init_missing_data(amputation)\n",
    "\n",
    "        # increasing rate p\n",
    "        for p in p_range:\n",
    "            dataset.ampute_values(p)\n",
    "\n",
    "            # apply each imputation\n",
    "            for imputation in imputations:\n",
    "                results, exec_time = imputation.complete(dataset.missing_data())\n",
    "                clf_evaluation.evaluate_result(results, p, amputation.name(), imputation.name())\n",
    "                lnorm_evaluation.evaluate_result(results, p, amputation.name(), imputation.name())\n",
    "                time_evaluation.evaluate_result(exec_time, p, amputation.name(), imputation.name(), imputation.number())\n",
    "            print(amputation.name() + ': ' + str(p) + ' done')\n",
    "    \n",
    "    # dump results\n",
    "    clf_evaluation.dump_results()\n",
    "    lnorm_evaluation.dump_results()\n",
    "    time_evaluation.dump_results()\n",
    "    print(dataset_name + ' done-------------------------------------------')"
   ]
  },
  {
   "cell_type": "code",
   "execution_count": null,
   "metadata": {},
   "outputs": [],
   "source": []
  }
 ],
 "metadata": {
  "kernelspec": {
   "display_name": "Python 3",
   "language": "python",
   "name": "python3"
  },
  "language_info": {
   "codemirror_mode": {
    "name": "ipython",
    "version": 3
   },
   "file_extension": ".py",
   "mimetype": "text/x-python",
   "name": "python",
   "nbconvert_exporter": "python",
   "pygments_lexer": "ipython3",
   "version": "3.6.4"
  }
 },
 "nbformat": 4,
 "nbformat_minor": 2
}
